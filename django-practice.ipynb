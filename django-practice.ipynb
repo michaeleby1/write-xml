{
 "cells": [
  {
   "cell_type": "code",
   "execution_count": 1,
   "metadata": {},
   "outputs": [],
   "source": [
    "import pandas as pd\n",
    "import glob, os, json"
   ]
  },
  {
   "cell_type": "code",
   "execution_count": 3,
   "metadata": {},
   "outputs": [
    {
     "data": {
      "text/plain": [
       "['/Users/michaeleby1/Documents/Flatiron/projects/django-practice/log_data/2018/11/2018-11-11-events.json',\n",
       " '/Users/michaeleby1/Documents/Flatiron/projects/django-practice/log_data/2018/11/2018-11-23-events.json',\n",
       " '/Users/michaeleby1/Documents/Flatiron/projects/django-practice/log_data/2018/11/2018-11-18-events.json',\n",
       " '/Users/michaeleby1/Documents/Flatiron/projects/django-practice/log_data/2018/11/2018-11-04-events.json',\n",
       " '/Users/michaeleby1/Documents/Flatiron/projects/django-practice/log_data/2018/11/2018-11-01-events.json',\n",
       " '/Users/michaeleby1/Documents/Flatiron/projects/django-practice/log_data/2018/11/2018-11-14-events.json',\n",
       " '/Users/michaeleby1/Documents/Flatiron/projects/django-practice/log_data/2018/11/2018-11-08-events.json',\n",
       " '/Users/michaeleby1/Documents/Flatiron/projects/django-practice/log_data/2018/11/2018-11-26-events.json',\n",
       " '/Users/michaeleby1/Documents/Flatiron/projects/django-practice/log_data/2018/11/2018-11-25-events.json',\n",
       " '/Users/michaeleby1/Documents/Flatiron/projects/django-practice/log_data/2018/11/2018-11-17-events.json',\n",
       " '/Users/michaeleby1/Documents/Flatiron/projects/django-practice/log_data/2018/11/2018-11-02-events.json',\n",
       " '/Users/michaeleby1/Documents/Flatiron/projects/django-practice/log_data/2018/11/2018-11-30-events.json',\n",
       " '/Users/michaeleby1/Documents/Flatiron/projects/django-practice/log_data/2018/11/2018-11-07-events.json',\n",
       " '/Users/michaeleby1/Documents/Flatiron/projects/django-practice/log_data/2018/11/2018-11-29-events.json',\n",
       " '/Users/michaeleby1/Documents/Flatiron/projects/django-practice/log_data/2018/11/2018-11-20-events.json',\n",
       " '/Users/michaeleby1/Documents/Flatiron/projects/django-practice/log_data/2018/11/2018-11-12-events.json',\n",
       " '/Users/michaeleby1/Documents/Flatiron/projects/django-practice/log_data/2018/11/2018-11-09-events.json',\n",
       " '/Users/michaeleby1/Documents/Flatiron/projects/django-practice/log_data/2018/11/2018-11-27-events.json',\n",
       " '/Users/michaeleby1/Documents/Flatiron/projects/django-practice/log_data/2018/11/2018-11-15-events.json',\n",
       " '/Users/michaeleby1/Documents/Flatiron/projects/django-practice/log_data/2018/11/2018-11-05-events.json',\n",
       " '/Users/michaeleby1/Documents/Flatiron/projects/django-practice/log_data/2018/11/2018-11-19-events.json',\n",
       " '/Users/michaeleby1/Documents/Flatiron/projects/django-practice/log_data/2018/11/2018-11-22-events.json',\n",
       " '/Users/michaeleby1/Documents/Flatiron/projects/django-practice/log_data/2018/11/2018-11-10-events.json',\n",
       " '/Users/michaeleby1/Documents/Flatiron/projects/django-practice/log_data/2018/11/2018-11-13-events.json',\n",
       " '/Users/michaeleby1/Documents/Flatiron/projects/django-practice/log_data/2018/11/2018-11-21-events.json',\n",
       " '/Users/michaeleby1/Documents/Flatiron/projects/django-practice/log_data/2018/11/2018-11-06-events.json',\n",
       " '/Users/michaeleby1/Documents/Flatiron/projects/django-practice/log_data/2018/11/2018-11-28-events.json',\n",
       " '/Users/michaeleby1/Documents/Flatiron/projects/django-practice/log_data/2018/11/2018-11-03-events.json',\n",
       " '/Users/michaeleby1/Documents/Flatiron/projects/django-practice/log_data/2018/11/2018-11-16-events.json',\n",
       " '/Users/michaeleby1/Documents/Flatiron/projects/django-practice/log_data/2018/11/2018-11-24-events.json']"
      ]
     },
     "execution_count": 3,
     "metadata": {},
     "output_type": "execute_result"
    }
   ],
   "source": [
    "path = 'log_data/2018/11/'\n",
    "abspath = os.path.dirname(os.path.abspath(path))\n",
    "filelist = glob.glob(abspath + '/11/*.json')\n",
    "filelist"
   ]
  },
  {
   "cell_type": "code",
   "execution_count": 6,
   "metadata": {},
   "outputs": [
    {
     "name": "stdout",
     "output_type": "stream",
     "text": [
      "(8151, 18)\n"
     ]
    },
    {
     "data": {
      "text/html": [
       "<div>\n",
       "<style scoped>\n",
       "    .dataframe tbody tr th:only-of-type {\n",
       "        vertical-align: middle;\n",
       "    }\n",
       "\n",
       "    .dataframe tbody tr th {\n",
       "        vertical-align: top;\n",
       "    }\n",
       "\n",
       "    .dataframe thead th {\n",
       "        text-align: right;\n",
       "    }\n",
       "</style>\n",
       "<table border=\"1\" class=\"dataframe\">\n",
       "  <thead>\n",
       "    <tr style=\"text-align: right;\">\n",
       "      <th></th>\n",
       "      <th>artist</th>\n",
       "      <th>auth</th>\n",
       "      <th>firstName</th>\n",
       "      <th>gender</th>\n",
       "      <th>itemInSession</th>\n",
       "      <th>lastName</th>\n",
       "      <th>length</th>\n",
       "      <th>level</th>\n",
       "      <th>location</th>\n",
       "      <th>method</th>\n",
       "      <th>page</th>\n",
       "      <th>registration</th>\n",
       "      <th>sessionId</th>\n",
       "      <th>song</th>\n",
       "      <th>status</th>\n",
       "      <th>ts</th>\n",
       "      <th>userAgent</th>\n",
       "      <th>userId</th>\n",
       "    </tr>\n",
       "  </thead>\n",
       "  <tbody>\n",
       "    <tr>\n",
       "      <td>0</td>\n",
       "      <td>Frumpies</td>\n",
       "      <td>Logged In</td>\n",
       "      <td>Anabelle</td>\n",
       "      <td>F</td>\n",
       "      <td>0</td>\n",
       "      <td>Simpson</td>\n",
       "      <td>134.47791</td>\n",
       "      <td>free</td>\n",
       "      <td>Philadelphia-Camden-Wilmington, PA-NJ-DE-MD</td>\n",
       "      <td>PUT</td>\n",
       "      <td>NextSong</td>\n",
       "      <td>1.541044e+12</td>\n",
       "      <td>455</td>\n",
       "      <td>Fuck Kitty</td>\n",
       "      <td>200</td>\n",
       "      <td>1541903636796</td>\n",
       "      <td>\"Mozilla/5.0 (Macintosh; Intel Mac OS X 10_9_4...</td>\n",
       "      <td>69</td>\n",
       "    </tr>\n",
       "    <tr>\n",
       "      <td>1</td>\n",
       "      <td>Kenny G with Peabo Bryson</td>\n",
       "      <td>Logged In</td>\n",
       "      <td>Anabelle</td>\n",
       "      <td>F</td>\n",
       "      <td>1</td>\n",
       "      <td>Simpson</td>\n",
       "      <td>264.75057</td>\n",
       "      <td>free</td>\n",
       "      <td>Philadelphia-Camden-Wilmington, PA-NJ-DE-MD</td>\n",
       "      <td>PUT</td>\n",
       "      <td>NextSong</td>\n",
       "      <td>1.541044e+12</td>\n",
       "      <td>455</td>\n",
       "      <td>By The Time This Night Is Over</td>\n",
       "      <td>200</td>\n",
       "      <td>1541903770796</td>\n",
       "      <td>\"Mozilla/5.0 (Macintosh; Intel Mac OS X 10_9_4...</td>\n",
       "      <td>69</td>\n",
       "    </tr>\n",
       "    <tr>\n",
       "      <td>2</td>\n",
       "      <td>Biffy Clyro</td>\n",
       "      <td>Logged In</td>\n",
       "      <td>Anabelle</td>\n",
       "      <td>F</td>\n",
       "      <td>2</td>\n",
       "      <td>Simpson</td>\n",
       "      <td>189.83138</td>\n",
       "      <td>free</td>\n",
       "      <td>Philadelphia-Camden-Wilmington, PA-NJ-DE-MD</td>\n",
       "      <td>PUT</td>\n",
       "      <td>NextSong</td>\n",
       "      <td>1.541044e+12</td>\n",
       "      <td>455</td>\n",
       "      <td>God &amp; Satan</td>\n",
       "      <td>200</td>\n",
       "      <td>1541904034796</td>\n",
       "      <td>\"Mozilla/5.0 (Macintosh; Intel Mac OS X 10_9_4...</td>\n",
       "      <td>69</td>\n",
       "    </tr>\n",
       "    <tr>\n",
       "      <td>3</td>\n",
       "      <td>None</td>\n",
       "      <td>Logged In</td>\n",
       "      <td>Lily</td>\n",
       "      <td>F</td>\n",
       "      <td>0</td>\n",
       "      <td>Burns</td>\n",
       "      <td>NaN</td>\n",
       "      <td>free</td>\n",
       "      <td>New York-Newark-Jersey City, NY-NJ-PA</td>\n",
       "      <td>GET</td>\n",
       "      <td>Home</td>\n",
       "      <td>1.540621e+12</td>\n",
       "      <td>456</td>\n",
       "      <td>None</td>\n",
       "      <td>200</td>\n",
       "      <td>1541910841796</td>\n",
       "      <td>\"Mozilla/5.0 (Windows NT 6.1; WOW64) AppleWebK...</td>\n",
       "      <td>32</td>\n",
       "    </tr>\n",
       "    <tr>\n",
       "      <td>4</td>\n",
       "      <td>HIM</td>\n",
       "      <td>Logged In</td>\n",
       "      <td>Lily</td>\n",
       "      <td>F</td>\n",
       "      <td>1</td>\n",
       "      <td>Burns</td>\n",
       "      <td>212.06159</td>\n",
       "      <td>free</td>\n",
       "      <td>New York-Newark-Jersey City, NY-NJ-PA</td>\n",
       "      <td>PUT</td>\n",
       "      <td>NextSong</td>\n",
       "      <td>1.540621e+12</td>\n",
       "      <td>456</td>\n",
       "      <td>Beautiful</td>\n",
       "      <td>200</td>\n",
       "      <td>1541910973796</td>\n",
       "      <td>\"Mozilla/5.0 (Windows NT 6.1; WOW64) AppleWebK...</td>\n",
       "      <td>32</td>\n",
       "    </tr>\n",
       "  </tbody>\n",
       "</table>\n",
       "</div>"
      ],
      "text/plain": [
       "                      artist       auth firstName gender  itemInSession  \\\n",
       "0                   Frumpies  Logged In  Anabelle      F              0   \n",
       "1  Kenny G with Peabo Bryson  Logged In  Anabelle      F              1   \n",
       "2                Biffy Clyro  Logged In  Anabelle      F              2   \n",
       "3                       None  Logged In      Lily      F              0   \n",
       "4                        HIM  Logged In      Lily      F              1   \n",
       "\n",
       "  lastName     length level                                     location  \\\n",
       "0  Simpson  134.47791  free  Philadelphia-Camden-Wilmington, PA-NJ-DE-MD   \n",
       "1  Simpson  264.75057  free  Philadelphia-Camden-Wilmington, PA-NJ-DE-MD   \n",
       "2  Simpson  189.83138  free  Philadelphia-Camden-Wilmington, PA-NJ-DE-MD   \n",
       "3    Burns        NaN  free        New York-Newark-Jersey City, NY-NJ-PA   \n",
       "4    Burns  212.06159  free        New York-Newark-Jersey City, NY-NJ-PA   \n",
       "\n",
       "  method      page  registration  sessionId                            song  \\\n",
       "0    PUT  NextSong  1.541044e+12        455                      Fuck Kitty   \n",
       "1    PUT  NextSong  1.541044e+12        455  By The Time This Night Is Over   \n",
       "2    PUT  NextSong  1.541044e+12        455                     God & Satan   \n",
       "3    GET      Home  1.540621e+12        456                            None   \n",
       "4    PUT  NextSong  1.540621e+12        456                       Beautiful   \n",
       "\n",
       "   status             ts                                          userAgent  \\\n",
       "0     200  1541903636796  \"Mozilla/5.0 (Macintosh; Intel Mac OS X 10_9_4...   \n",
       "1     200  1541903770796  \"Mozilla/5.0 (Macintosh; Intel Mac OS X 10_9_4...   \n",
       "2     200  1541904034796  \"Mozilla/5.0 (Macintosh; Intel Mac OS X 10_9_4...   \n",
       "3     200  1541910841796  \"Mozilla/5.0 (Windows NT 6.1; WOW64) AppleWebK...   \n",
       "4     200  1541910973796  \"Mozilla/5.0 (Windows NT 6.1; WOW64) AppleWebK...   \n",
       "\n",
       "  userId  \n",
       "0     69  \n",
       "1     69  \n",
       "2     69  \n",
       "3     32  \n",
       "4     32  "
      ]
     },
     "execution_count": 6,
     "metadata": {},
     "output_type": "execute_result"
    }
   ],
   "source": [
    "df = pd.read_json(filelist[0], lines=True, orient='records')\n",
    "for i in range(len(filelist)):\n",
    "    df = pd.concat([df, pd.read_json(filelist[i], lines=True, orient='records')])\n",
    "print(df.shape)\n",
    "df.head()"
   ]
  },
  {
   "cell_type": "code",
   "execution_count": 27,
   "metadata": {},
   "outputs": [],
   "source": [
    "def to_xml(row):\n",
    "    xml = ['<item>']\n",
    "    for col in row.index:\n",
    "        xml.append(f'  <field name=\"{col}\">{row[col]}</field>')\n",
    "    xml.append('</item>')\n",
    "    return '\\n'.join(xml)"
   ]
  },
  {
   "cell_type": "code",
   "execution_count": 28,
   "metadata": {},
   "outputs": [],
   "source": [
    "doc = '\\n'.join(df.apply(to_xml, axis=1))"
   ]
  },
  {
   "cell_type": "code",
   "execution_count": 29,
   "metadata": {},
   "outputs": [
    {
     "name": "stdout",
     "output_type": "stream",
     "text": [
      "<item>\n",
      "  <field name=\"artist\">Frumpies</field>\n",
      "  <field name=\"auth\">Logged In</field>\n",
      "  <field name=\"firstName\">Anabelle</field>\n",
      "  <field name=\"gender\">F</field>\n",
      "  <field name=\"itemInSession\">0</field>\n",
      "  <field name=\"lastName\">Simpson</field>\n",
      "  <field name=\"length\">134.47791</field>\n",
      "  <field name=\"level\">free</field>\n",
      "  <field name=\"location\">Philadelphia-Camden-Wilmington, PA-NJ-DE-MD</field>\n",
      "  <field name=\"method\">PUT</field>\n",
      "  <field name=\"page\">NextSong</field>\n",
      "  <field name=\"registration\">1541044398796.0</field>\n",
      "  <field name=\"sessionId\">455</field>\n",
      "  <field name=\"song\">Fuck Kitty</field>\n",
      "  <field name=\"status\">200</field>\n",
      "  <field name=\"ts\">1541903636796</field>\n",
      "  <field name=\"userAgent\">\"Mozilla/5.0 (Macintosh; Intel Mac OS X 10_9_4) AppleWebKit/537.36 (KHTML, like Gecko) Chrome/36.0.1985.125 Safari/537.36\"</field>\n",
      "  <field name=\"userId\">69</field>\n",
      "</item>\n",
      "<item>\n",
      "  <field name=\"artist\">Kenny G with Peabo Bryson</field>\n",
      "  <field name=\"auth\">Logged In</field>\n",
      "  <field name=\"firstNa\n"
     ]
    }
   ],
   "source": [
    "print(doc[:1000])"
   ]
  },
  {
   "cell_type": "code",
   "execution_count": 30,
   "metadata": {},
   "outputs": [],
   "source": [
    "def write_xml(filename, mode='w'):\n",
    "    with open(filename, mode) as f:\n",
    "        f.write(doc)"
   ]
  },
  {
   "cell_type": "code",
   "execution_count": null,
   "metadata": {},
   "outputs": [],
   "source": [
    "def main()"
   ]
  }
 ],
 "metadata": {
  "kernelspec": {
   "display_name": "Python 3",
   "language": "python",
   "name": "python3"
  },
  "varInspector": {
   "cols": {
    "lenName": 16,
    "lenType": 16,
    "lenVar": 40
   },
   "kernels_config": {
    "python": {
     "delete_cmd_postfix": "",
     "delete_cmd_prefix": "del ",
     "library": "var_list.py",
     "varRefreshCmd": "print(var_dic_list())"
    },
    "r": {
     "delete_cmd_postfix": ") ",
     "delete_cmd_prefix": "rm(",
     "library": "var_list.r",
     "varRefreshCmd": "cat(var_dic_list()) "
    }
   },
   "types_to_exclude": [
    "module",
    "function",
    "builtin_function_or_method",
    "instance",
    "_Feature"
   ],
   "window_display": false
  }
 },
 "nbformat": 4,
 "nbformat_minor": 2
}
